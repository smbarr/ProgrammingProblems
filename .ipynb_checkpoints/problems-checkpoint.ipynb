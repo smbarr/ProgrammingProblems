{
 "cells": [
  {
   "cell_type": "markdown",
   "id": "0c6a1199",
   "metadata": {},
   "source": [
    "1. Delete the duplicates from an array"
   ]
  },
  {
   "cell_type": "code",
   "execution_count": 1,
   "id": "c656da65-03f3-4e7b-a566-8b85fe0cd395",
   "metadata": {},
   "outputs": [
    {
     "data": {
      "text/plain": [
       "[]"
      ]
     },
     "execution_count": 1,
     "metadata": {},
     "output_type": "execute_result"
    }
   ],
   "source": [
    "def deleteDuplicates(l):\n",
    "    res = []\n",
    "    return res\n",
    "\n",
    "l = [0, 1, 2, 3, 4, 3, 5, 5, 6, 2]\n",
    "deleteDuplicates(l)"
   ]
  },
  {
   "cell_type": "markdown",
   "id": "d27d8082",
   "metadata": {},
   "source": [
    "2. Given two rectangles on a 2D graph, return the area of their intersection. If the rectangles don't intersect, return 0."
   ]
  },
  {
   "cell_type": "code",
   "execution_count": 2,
   "id": "bf80d78a",
   "metadata": {},
   "outputs": [],
   "source": [
    "class Rectangle:\n",
    "    def __init__(self, top_left, dimensions):\n",
    "        self.top = top_left[0]\n",
    "        self.left = top_left[1]\n",
    "        self.w = dimensions[0]\n",
    "        self.h = dimensions[1]\n",
    "\n",
    "def calcArea(rect1, rect2):\n",
    "    return\n",
    "\n",
    "calcArea(Rectangle((1,4), (3,3)), Rectangle((0,5), (3,4)))"
   ]
  },
  {
   "cell_type": "markdown",
   "id": "1d6ef9ec",
   "metadata": {},
   "source": [
    "3. Given an N by N matrix, rotate it by 90 degrees clockwise."
   ]
  },
  {
   "cell_type": "code",
   "execution_count": 3,
   "id": "c7adf29e",
   "metadata": {},
   "outputs": [
    {
     "name": "stdout",
     "output_type": "stream",
     "text": [
      "[[1, 2, 3], [4, 5, 6], [7, 8, 9]]\n",
      "None\n"
     ]
    }
   ],
   "source": [
    "def rotateMatrix(mat):\n",
    "    return\n",
    "\n",
    "mat =[[1, 2, 3],\n",
    "      [4, 5, 6],\n",
    "      [7, 8, 9]]\n",
    "\n",
    "print(mat)\n",
    "print(rotateMatrix(mat))"
   ]
  },
  {
   "cell_type": "markdown",
   "id": "715d400e",
   "metadata": {},
   "source": [
    "4. Given a string and a set of delimiters (: and /), reverse the words in the string while maintaining the relative order of the delimiters. \n",
    "For example, given \"hello/world:here\", return \"here/world:hello\""
   ]
  },
  {
   "cell_type": "code",
   "execution_count": 4,
   "id": "eb39a9cd",
   "metadata": {},
   "outputs": [
    {
     "name": "stdout",
     "output_type": "stream",
     "text": [
      "None\n",
      "None\n",
      "None\n"
     ]
    }
   ],
   "source": [
    "def reverseDelimited(s):\n",
    "    return\n",
    "\n",
    "print(reverseDelimited(\"hello/world:here\"))\n",
    "print(reverseDelimited(\"here/world:hello/\"))\n",
    "print(reverseDelimited(\"hello//world:here\"))"
   ]
  },
  {
   "cell_type": "code",
   "execution_count": null,
   "id": "5ddc6a7e",
   "metadata": {},
   "outputs": [],
   "source": []
  }
 ],
 "metadata": {
  "kernelspec": {
   "display_name": "Python 3",
   "language": "python",
   "name": "python3"
  },
  "language_info": {
   "codemirror_mode": {
    "name": "ipython",
    "version": 3
   },
   "file_extension": ".py",
   "mimetype": "text/x-python",
   "name": "python",
   "nbconvert_exporter": "python",
   "pygments_lexer": "ipython3",
   "version": "3.8.8"
  }
 },
 "nbformat": 4,
 "nbformat_minor": 5
}
