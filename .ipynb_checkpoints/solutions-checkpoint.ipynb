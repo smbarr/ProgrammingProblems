{
 "cells": [
  {
   "cell_type": "markdown",
   "id": "8e194826",
   "metadata": {},
   "source": [
    "1. Delete the duplicates from an array"
   ]
  },
  {
   "cell_type": "code",
   "execution_count": 1,
   "id": "c656da65-03f3-4e7b-a566-8b85fe0cd395",
   "metadata": {},
   "outputs": [
    {
     "data": {
      "text/plain": [
       "[0, 1, 2, 3, 4, 5, 6]"
      ]
     },
     "execution_count": 1,
     "metadata": {},
     "output_type": "execute_result"
    }
   ],
   "source": [
    "def deleteDuplicates(l):\n",
    "    d = {}\n",
    "    res = []\n",
    "    for n in l:\n",
    "        if not n in d:\n",
    "            d[n] = 1\n",
    "            res.append(n)\n",
    "    return res\n",
    "\n",
    "l = [0, 1, 2, 3, 4, 3, 5, 5, 6, 2]\n",
    "deleteDuplicates(l)"
   ]
  },
  {
   "cell_type": "markdown",
   "id": "4e6cdcff",
   "metadata": {},
   "source": [
    "2. Given two rectangles on a 2D graph, return the area of their intersection. If the rectangles don't intersect, return 0."
   ]
  },
  {
   "cell_type": "code",
   "execution_count": 2,
   "id": "b6288e4a",
   "metadata": {},
   "outputs": [
    {
     "data": {
      "text/plain": [
       "4"
      ]
     },
     "execution_count": 2,
     "metadata": {},
     "output_type": "execute_result"
    }
   ],
   "source": [
    "class Rectangle:\n",
    "    def __init__(self, top_left, dimensions):\n",
    "        self.top = top_left[0]\n",
    "        self.left = top_left[1]\n",
    "        self.w = dimensions[0]\n",
    "        self.h = dimensions[1]\n",
    "\n",
    "def calcArea(rect1, rect2):\n",
    "    overlap_w = 0\n",
    "    overlap_h = 0\n",
    "    if rect1.top > rect2.top:\n",
    "        overlap_h = rect2.top - (rect1.top-rect1.h)\n",
    "    else:\n",
    "        overlap_h = rect1.top - (rect2.top-rect2.h)\n",
    "    if rect1.left + rect1.w > rect2.left + rect2.w:\n",
    "        overlap_w = rect2.left + rect2.w - rect1.left\n",
    "    else:\n",
    "        overlap_w = rect1.left + rect1.w - rect2.left\n",
    "    return overlap_w * overlap_h\n",
    "\n",
    "calcArea(Rectangle((1,4), (3,3)), Rectangle((0,5), (3,4)))"
   ]
  },
  {
   "cell_type": "markdown",
   "id": "c10060b9",
   "metadata": {},
   "source": [
    "3. Given an N by N matrix, rotate it by 90 degrees clockwise."
   ]
  },
  {
   "cell_type": "code",
   "execution_count": 3,
   "id": "08a93965",
   "metadata": {},
   "outputs": [
    {
     "name": "stdout",
     "output_type": "stream",
     "text": [
      "[[1, 2, 3],\n",
      " [4, 5, 6],\n",
      " [7, 8, 9]]\n",
      "\n",
      "[[7, 4, 1],\n",
      " [8, 5, 2],\n",
      " [9, 6, 3]]\n",
      "\n"
     ]
    }
   ],
   "source": [
    "class matrix:\n",
    "    def __init__(self, l):\n",
    "        self.values = l\n",
    "    def __repr__(self):\n",
    "        out = \"[\"\n",
    "        for i in range(len(self.values)):\n",
    "            out += \"[\"\n",
    "            for j in range(len(self.values[i])):\n",
    "                out += \"%d, \"%(self.values[i][j])\n",
    "            out = out[:-2] + \"],\\n \"\n",
    "        out = out[:-3] + \"]\\n\"\n",
    "        return out\n",
    "\n",
    "def rotateMatrix(mat):\n",
    "    imax = len(mat)\n",
    "    jmax = len(mat[0])\n",
    "    res = [[0 for j in range(jmax)] for i in range(imax)]\n",
    "    for i in range(imax):\n",
    "        for j in range(jmax):\n",
    "            res[j][imax-1-i] = mat[i][j]\n",
    "    return res\n",
    "\n",
    "mat =[[1, 2, 3],\n",
    "      [4, 5, 6],\n",
    "      [7, 8, 9]]\n",
    "\n",
    "print(matrix(mat))\n",
    "print(matrix(rotateMatrix(mat)))"
   ]
  },
  {
   "cell_type": "markdown",
   "id": "a30b037d",
   "metadata": {},
   "source": [
    "4. Given a string and a set of delimiters (: and /), reverse the words in the string while maintaining the relative order of the delimiters. \n",
    "For example, given \"hello/world:here\", return \"here/world:hello\""
   ]
  },
  {
   "cell_type": "code",
   "execution_count": 4,
   "id": "568c9735",
   "metadata": {},
   "outputs": [
    {
     "name": "stdout",
     "output_type": "stream",
     "text": [
      "here/world:hello\n",
      "/hello:world/here\n",
      "here/world/:hello\n"
     ]
    }
   ],
   "source": [
    "def reverseDelimited(s):\n",
    "    delimiters = \":/\"\n",
    "    words = []\n",
    "    res = \"\"\n",
    "    delimiter_positions = {}\n",
    "    for i, n in enumerate(s):\n",
    "        if n in delimiters:\n",
    "            delimiter_positions[i] = n\n",
    "    pos = 0\n",
    "    for d_pos in delimiter_positions:\n",
    "        words.append(s[pos:d_pos])\n",
    "        pos = d_pos + 1\n",
    "    words.append(s[pos:]) # Save the last position as a delimiter, so we get the last word\n",
    "    delimiter_positions[len(s)] = \"\" # Empty character at the end of the string\n",
    "    for i, w in enumerate(reversed(words)):\n",
    "        res += w\n",
    "        #if i < len(list(delimiter_positions.values())):\n",
    "        res += list(delimiter_positions.values())[i]\n",
    "    return res\n",
    "\n",
    "print(reverseDelimited(\"hello/world:here\"))\n",
    "print(reverseDelimited(\"here/world:hello/\"))\n",
    "print(reverseDelimited(\"hello//world:here\"))"
   ]
  },
  {
   "cell_type": "code",
   "execution_count": null,
   "id": "b306779e",
   "metadata": {},
   "outputs": [],
   "source": []
  }
 ],
 "metadata": {
  "kernelspec": {
   "display_name": "Python 3",
   "language": "python",
   "name": "python3"
  },
  "language_info": {
   "codemirror_mode": {
    "name": "ipython",
    "version": 3
   },
   "file_extension": ".py",
   "mimetype": "text/x-python",
   "name": "python",
   "nbconvert_exporter": "python",
   "pygments_lexer": "ipython3",
   "version": "3.8.8"
  }
 },
 "nbformat": 4,
 "nbformat_minor": 5
}
